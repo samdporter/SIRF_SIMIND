{
 "cells": [
  {
   "cell_type": "markdown",
   "metadata": {},
   "source": [
    "# SIRF reconstruction using data simulated with SIMIND ###\n",
    "This notebook lays out a simple simulation and reconstruction using SIMIND and SIRF \\\n",
    "Please see Rebecca Gillen's instructions for a more in depth guide"
   ]
  },
  {
   "cell_type": "markdown",
   "metadata": {},
   "source": [
    "### simind can be donwloaded from https://simind.blogg.lu.se/downloads/\n",
    "There are reasonably straight forward instructions to be followed for Windows/Mac/Linux\n",
    "### SIRF can be downloaded from https://github.com/SyneRBI/SIRF\n",
    "There are more complicated, but logical instructions for building the required packaged and libraries at https://github.com/SyneRBI/SIRF/wiki/Installation-instructions"
   ]
  },
  {
   "cell_type": "code",
   "execution_count": null,
   "metadata": {},
   "outputs": [],
   "source": [
    "%%bash\n",
    "pip install pandas\n",
    "pip install numpy"
   ]
  },
  {
   "cell_type": "code",
   "execution_count": null,
   "metadata": {},
   "outputs": [],
   "source": [
    "import sys\n",
    "sys.path.append(\"//home/sam/devel/STIR/STIR_github/STIR/src/swig\") # not sure why VScode doesn't recongnise this path without me doing this"
   ]
  },
  {
   "cell_type": "code",
   "execution_count": null,
   "metadata": {},
   "outputs": [],
   "source": [
    "import stir\n",
    "import stirextra\n",
    "\n",
    "import numpy as np\n",
    "import pandas as pd\n",
    "import pylab"
   ]
  },
  {
   "cell_type": "markdown",
   "metadata": {},
   "source": [
    "Below we define two functions (the first of which should hopefully become necessary) in order to set up a voxel-based phantom (to use SIMIND's language)"
   ]
  },
  {
   "cell_type": "code",
   "execution_count": null,
   "metadata": {},
   "outputs": [],
   "source": [
    "def create_sample_image(image):\n",
    "    '''fill the image with some geometric shapes to create a simple phantom image'''\n",
    "    im_shape = image.shape()\n",
    "    tmp_im = image.get_empty_copy()\n",
    "    \n",
    "    shapeim = tmp_im.get_empty_copy()\n",
    "    \n",
    "    # create a body-like ellipsoid shape\n",
    "    shape = stir.EllipsoidalCylinder()\n",
    "    shape.set_length(400)\n",
    "    shape.set_radius_x(im_shape[2]//2*3)\n",
    "    shape.set_radius_y(im_shape[1]//3*4)\n",
    "    shape.scale = (150)\n",
    "    shape.set_origin((stir.FloatCartesianCoordinate3D(0,0,0)))\n",
    "    shape.construct_volume(shapeim, stir.IntCartesianCoordinate3D(1,1,1))\n",
    "    tmp_im.xapyb(tmp_im,1,shapeim,1)\n",
    "\n",
    "    # add some lung-like shapes shape\n",
    "    shape.set_radius_x(im_shape[2]//2)\n",
    "    shape.set_radius_y(im_shape[1])\n",
    "    shape.set_origin((stir.FloatCartesianCoordinate3D(0,0,-im_shape[2]//3*2)))\n",
    "    shape.construct_volume(shapeim, stir.IntCartesianCoordinate3D(1,1,1))\n",
    "    tmp_im.xapyb(tmp_im,1,shapeim,-0.5)\n",
    "\n",
    "    shape.set_origin((stir.FloatCartesianCoordinate3D(0,0, im_shape[2]//3*2)))\n",
    "    shape.construct_volume(shapeim, stir.IntCartesianCoordinate3D(1,1,1))\n",
    "    tmp_im.xapyb(tmp_im,1,shapeim,-0.5)\n",
    "\n",
    "    # a spine-like shape\n",
    "    shape.set_radius_x(im_shape[2]//4)\n",
    "    shape.set_radius_y(im_shape[1]//4)\n",
    "    shape.set_origin((stir.FloatCartesianCoordinate3D(0, im_shape[1]//5*4, 0)))\n",
    "    shape.construct_volume(shapeim, stir.IntCartesianCoordinate3D(1,1,1))\n",
    "    tmp_im.xapyb(tmp_im,1,shapeim,0.5)\n",
    "\n",
    "    return tmp_im"
   ]
  },
  {
   "cell_type": "markdown",
   "metadata": {},
   "source": [
    "We are now ready to create our image. We require only a template sinogram containing information such as the image dimensions and number of projections (among many other things - take a look at the .hs file)"
   ]
  },
  {
   "cell_type": "code",
   "execution_count": null,
   "metadata": {},
   "outputs": [],
   "source": [
    "templ_sino = stir.ProjData.read_from_file(\"./template_sinogram.hs\") # template sirf acquisition data\n"
   ]
  },
  {
   "cell_type": "code",
   "execution_count": null,
   "metadata": {},
   "outputs": [],
   "source": [
    "templ_sino.get_max_tangential_pos_num()"
   ]
  },
  {
   "cell_type": "code",
   "execution_count": null,
   "metadata": {},
   "outputs": [],
   "source": [
    "templ_sino.get_max_view_num()"
   ]
  },
  {
   "cell_type": "code",
   "execution_count": null,
   "metadata": {},
   "outputs": [],
   "source": [
    "image = stir.FloatVoxelsOnCartesianGrid(templ_sino.get_proj_data_info(), 1)\n",
    "im = stir.zoom_image(create_sample_image(image), 1, 0, 0, 64) # use the template to create an empty image\n",
    "pylab.figure()\n",
    "pylab.subplot(1, 2, 1)\n",
    "pylab.imshow(np.squeeze(stirextra.to_numpy(im)))\n",
    "pylab.title('Empty Image')\n",
    "pylab.show(block=False)"
   ]
  },
  {
   "cell_type": "code",
   "execution_count": null,
   "metadata": {},
   "outputs": [],
   "source": [
    "att_STIR = im.get_empty_copy()\n",
    "att_STIR.fill((stirextra.to_numpy(im)/1000).flat) # approximate attenuation coefficient image used in STIR (/cm)\n",
    "att_SIMIND = im.get_empty_copy()\n",
    "att_SIMIND.fill((stirextra.to_numpy(im)/0.15).flat) # approximate density image used in SIMIND (mg/cm^3)\n",
    "att_none = im.get_empty_copy() # zero density map to investigate the effects on SIMIND reconstruction"
   ]
  },
  {
   "cell_type": "markdown",
   "metadata": {},
   "source": [
    "And we have a simple image phantom"
   ]
  },
  {
   "cell_type": "markdown",
   "metadata": {},
   "source": [
    "We now write these images to file.\n",
    "SIMIND requires a .dmi file for an attenuation (density) image and a .smi for an emission (source) image\\\n",
    "We can easily do this using the ImageData.write() method"
   ]
  },
  {
   "cell_type": "code",
   "execution_count": null,
   "metadata": {},
   "outputs": [],
   "source": [
    "im.write_to_file(\"./image.smi\")\n",
    "att_STIR.write_to_file(\"./attenuation_stir.hv\")\n",
    "att_SIMIND.write_to_file(\"./attenuation_simind.dmi\")\n",
    "att_none.write_to_file(\"./attenuation_none.dmi\")"
   ]
  },
  {
   "cell_type": "markdown",
   "metadata": {},
   "source": [
    "Now for a bit of fun, we'll use SIMIND's tumour functionality. \n",
    "We need to create a space separated value file where\n",
    "* The first three values (1-3) define the centre of the tumour in pixel units.\n",
    "* The next values (4-6) refer to the centre location of the tumour also in pixel units.\n",
    "* Value 7 is the voxel value and is a relative value associated with the main source\n",
    "distribution.\n",
    "* Value 8 is the density of the tumour. \n",
    "* Value 9 and 10 determine the distribution of activity in the tumour. If both values are 0,\n",
    "then it will be a uniform distributed activity."
   ]
  },
  {
   "cell_type": "markdown",
   "metadata": {},
   "source": [
    "We will define a uniform tumour (1, 5, 5) pixels wide located at (0, 20 , 30) using a panda data frame"
   ]
  },
  {
   "cell_type": "code",
   "execution_count": null,
   "metadata": {},
   "outputs": [],
   "source": [
    "tumour_arr = np.array([[1.,5.,5.,0,20.,30.,10.,5000.,0., 0.], [10.,15.,15.,0, 50.,45.,1000.,5000.,0., 0.]])\n",
    "tumour_df = pd.DataFrame(tumour_arr)\n",
    "tumour_df.to_csv('./tumour.inp', index=False, header=False, sep=' ')"
   ]
  },
  {
   "cell_type": "markdown",
   "metadata": {},
   "source": [
    "We're now ready to simulate our emission data. We have a .smc file containing information about the simulation. Please read the simind manual to learn about the many different options available. These options can be altered using either the change command (type \"change input.smc into the terminal) or using switches \\\n",
    "The syntax for reconstruction is as follows:\n",
    "`simind input_file_prefix outpute_files_prefix`\n",
    "This can be followed by switches seperated by forward slashes such as below \\*\\\n",
    "\\* Unfortunately this causes some trible with Linux & MacOS file directories. The SIMIND manual claims that two backslashed '\\\\' can be used in place of a forward slash that is part of a file directory, but I haven't found this to be the case"
   ]
  },
  {
   "cell_type": "markdown",
   "metadata": {},
   "source": [
    "The following bash command defines a .smc file `input.smc` follwed by a prefix for output files `output` \\\n",
    "Switches are then used to define:\n",
    "* /NN: a multiplier for the number of histories per projection (which is calculated using the sum of all voxel values)\n",
    "* /PX: defines the image pixel size in the i,j direction (transverse in this case) - im.voxel_sizes()\n",
    "* /FS: defines the prefix for the .smi emission image file\n",
    "* /FD: defines the prefix for rhe .dmi attenuation image file\n",
    "* "
   ]
  },
  {
   "cell_type": "code",
   "execution_count": null,
   "metadata": {},
   "outputs": [],
   "source": [
    "%%bash\n",
    "simind input output/NN:0.001/PX:0.4/FS:image.smi/FD:attenuation_simind.dmi/IF:tumour.inp"
   ]
  },
  {
   "cell_type": "markdown",
   "metadata": {},
   "source": [
    "And (assuming the preious cell ran) we have now simulated our SPECT data!\\\n",
    "Next we need to get this data into a format the SIRF will recognise. Luckily we have a script ready that does this for us.\n",
    "This script changes a few lines in the data's header file and the header file suffix. Differences between the conventions of interfiles in SIMIND and STIR/SIRF can be found in Rebecca's notes."
   ]
  },
  {
   "cell_type": "code",
   "execution_count": null,
   "metadata": {},
   "outputs": [],
   "source": [
    "%%bash\n",
    "sh ./convertSIMINDToSTIR.sh output.h00"
   ]
  },
  {
   "cell_type": "markdown",
   "metadata": {},
   "source": [
    "We can now view the resulting sinogram"
   ]
  },
  {
   "cell_type": "code",
   "execution_count": null,
   "metadata": {},
   "outputs": [],
   "source": [
    "simulated_data =  stir.ProjData.read_from_file(\"./output.hs\")\n",
    "pylab.figure()\n",
    "pylab.subplot(1, 2, 1)\n",
    "pylab.imshow(np.squeeze(stirextra.to_numpy(simulated_data)))\n",
    "pylab.title('Empty Image')\n",
    "pylab.show(block=False)"
   ]
  },
  {
   "cell_type": "markdown",
   "metadata": {},
   "source": [
    "OK, so now we have our projection data in a format that SIRF likes, we can go about reconstructing the data. In this notebook we do this as simply as possible with a back prokection. \\\n",
    "In order to do this we first need to create our acqusition model matrix"
   ]
  },
  {
   "cell_type": "code",
   "execution_count": null,
   "metadata": {},
   "outputs": [],
   "source": [
    "help(simulated_data)"
   ]
  },
  {
   "cell_type": "code",
   "execution_count": null,
   "metadata": {},
   "outputs": [],
   "source": [
    "simulated_data.fill(np.maximum(stirextra.to_numpy(simulated_data), 0.0001).flat) # make positive - shouldn't need to do this!"
   ]
  },
  {
   "cell_type": "markdown",
   "metadata": {},
   "source": [
    "# Nothing Works from here on in\n",
    "## Need to get SPECTUB Matrix usable with Python"
   ]
  },
  {
   "cell_type": "code",
   "execution_count": null,
   "metadata": {},
   "outputs": [],
   "source": [
    "acq_model_matrix = stir.ProjMatrixByBinSPECTUB()\n",
    "#acq_model_matrix.set_attenuation_image(att_STIR) # set the attenuation image for reconstruction \n",
    "acq_model_matrix.set_resolution_model(0.1,0.1,full_3D=False) # where we have defnied our collimator blurring as a gaussian with SD 0.1mm and a collimator slope of 0.1mm"
   ]
  },
  {
   "cell_type": "markdown",
   "metadata": {},
   "source": [
    "We then use this matrix to set up an acqusition model. This requires the set-Up() method to be run and needs a projection and image template "
   ]
  },
  {
   "cell_type": "code",
   "execution_count": null,
   "metadata": {},
   "outputs": [],
   "source": [
    "am = stir.\n",
    "am.set_up(data, im)"
   ]
  },
  {
   "cell_type": "markdown",
   "metadata": {},
   "source": [
    "And we can finally backproject the data"
   ]
  },
  {
   "cell_type": "code",
   "execution_count": null,
   "metadata": {},
   "outputs": [],
   "source": [
    "res = am.backward(data)\n",
    "res.show()"
   ]
  },
  {
   "cell_type": "markdown",
   "metadata": {},
   "source": [
    "Below is a forward and backproject of the data using SIRF only for comparison (obvisouly this doesn't model noise in any way)"
   ]
  },
  {
   "cell_type": "code",
   "execution_count": null,
   "metadata": {},
   "outputs": [],
   "source": [
    "forward_projected_data = am.forward(im)\n",
    "forward_projected_data.show()\n",
    "forward_projected_data.dimensions()"
   ]
  },
  {
   "cell_type": "code",
   "execution_count": null,
   "metadata": {},
   "outputs": [],
   "source": [
    "back_projected_image = am.backward(forward_projected_data)\n",
    "back_projected_image.show()"
   ]
  },
  {
   "cell_type": "code",
   "execution_count": null,
   "metadata": {},
   "outputs": [],
   "source": [
    "obj_function = STIR.make_Poisson_loglikelihood(forward_projected_data)\n",
    "obj_function.set_acquisition_model(am)\n",
    "\n",
    "reconstructor = STIR.OSMAPOSLReconstructor()\n",
    "reconstructor.set_objective_function(obj_function)\n",
    "reconstructor.set_num_subsets(1)\n",
    "reconstructor.set_num_subiterations(20)\n",
    "\n",
    "init = im.get_uniform_copy(1)\n",
    "filter = STIR.TruncateToCylinderProcessor()\n",
    "filter.apply(init)\n",
    "init.show()\n",
    "\n",
    "reconstructor.set_up(init)"
   ]
  },
  {
   "cell_type": "code",
   "execution_count": null,
   "metadata": {},
   "outputs": [],
   "source": [
    "reconstructor.reconstruct(init)"
   ]
  },
  {
   "cell_type": "code",
   "execution_count": null,
   "metadata": {},
   "outputs": [],
   "source": [
    "out = reconstructor.get_current_estimate()\n",
    "out.show()"
   ]
  },
  {
   "cell_type": "markdown",
   "metadata": {},
   "source": [
    "This last cell removes any temporary image files that SIRF occassionally misses"
   ]
  },
  {
   "cell_type": "code",
   "execution_count": null,
   "metadata": {},
   "outputs": [],
   "source": [
    "import glob\n",
    "import os\n",
    "\n",
    "for f in glob.glob((\"./tmp*\")):\n",
    "    os.remove(f)"
   ]
  }
 ],
 "metadata": {
  "kernelspec": {
   "display_name": "Python 3.10.6 64-bit",
   "language": "python",
   "name": "python3"
  },
  "language_info": {
   "codemirror_mode": {
    "name": "ipython"
   },
   "file_extension": ".py",
   "mimetype": "text/x-python",
   "name": "python",
   "nbconvert_exporter": "python"
  },
  "vscode": {
   "interpreter": {
    "hash": "767d51c1340bd893661ea55ea3124f6de3c7a262a8b4abca0554b478b1e2ff90"
   }
  }
 },
 "nbformat": 4,
 "nbformat_minor": 2
}
