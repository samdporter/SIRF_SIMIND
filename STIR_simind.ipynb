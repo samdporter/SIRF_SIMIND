{
 "cells": [
  {
   "cell_type": "markdown",
   "metadata": {},
   "source": [
    "# STIR reconstruction using data simulated with SIMIND ###\n",
    "This notebook lays out a simple simulation and reconstruction using SIMIND and STIR \\\n",
    "Please see Rebecca Gillen's instructions / presentation for a more in depth guide"
   ]
  },
  {
   "cell_type": "markdown",
   "metadata": {},
   "source": [
    "### simind can be donwloaded from https://simind.blogg.lu.se/downloads/\n",
    "\n",
    "There are reasonably straight forward instructions to be followed for Windows/Mac/Linux\n",
    "### STIR can be downloaded from https://github.com/UCL/STIR\n",
    "for the current development version that has the SPECT projection matrix exposed in python or \n",
    "### Latest stable release: https://stir.sourceforge.net/"
   ]
  },
  {
   "cell_type": "markdown",
   "metadata": {},
   "source": [
    "To use jupyter notebooks with this file, make sure you specify your stir python path\n",
    "e.g for Linux:\n",
    "\n",
    "    ~$PYTHONPATH /usr/local/python jupyter notebook"
   ]
  },
  {
   "cell_type": "code",
   "execution_count": null,
   "metadata": {},
   "outputs": [],
   "source": [
    "### imports ###\n",
    "\n",
    "# STIR modules\n",
    "import stir\n",
    "import stirextra\n",
    "\n",
    "# Other modules\n",
    "import numpy as np # STIR images & projection data can be exported as numpy arrays\n",
    "import os\n",
    "import matplotlib.pyplot as plt # for plotting\n"
   ]
  },
  {
   "cell_type": "code",
   "execution_count": null,
   "metadata": {},
   "outputs": [],
   "source": [
    "# a useful function definition\n",
    "\n",
    "def plot_show_save(image, fname, slice = False, save = False):\n",
    "        ''' simple image plot and save function '''\n",
    "        plt.subplot(111)\n",
    "        if slice:\n",
    "            plt.imshow(np.squeeze(stirextra.to_numpy(image))[slice])\n",
    "        else:\n",
    "            plt.imshow(np.squeeze(stirextra.to_numpy(image)))            \n",
    "        plt.title(fname)\n",
    "        plt.show()   \n",
    "        if save:\n",
    "            plt.savefig(fname)\n",
    "            image.write_to_file('tmp_'+fname)\n"
   ]
  },
  {
   "cell_type": "markdown",
   "metadata": {},
   "source": [
    "We are now ready to create our images. We'll use .par files in order to do this. SIMIND has some issues with switches (you'll see these later) getting confused with Linux directories so everything is currently in the same directory as the notebook.\n",
    "\n",
    "The shell script creates images with .hv header files for STIR images, .smi header files for simind source images and .dmi header files for simind density maps.\n",
    "\n",
    "We're currently having some issues with the simind attenuation, which we hope to fix soon so we'll only use the image in this simulation"
   ]
  },
  {
   "cell_type": "code",
   "execution_count": null,
   "metadata": {},
   "outputs": [],
   "source": [
    "%%bash\n",
    "sh generate_input_data.sh"
   ]
  },
  {
   "cell_type": "markdown",
   "metadata": {},
   "source": [
    "We'll now load this image file into a STIR object"
   ]
  },
  {
   "cell_type": "code",
   "execution_count": null,
   "metadata": {},
   "outputs": [],
   "source": [
    "image = stir.FloatVoxelsOnCartesianGrid.read_from_file(\"emission_image.hv\") # example emission image "
   ]
  },
  {
   "cell_type": "markdown",
   "metadata": {},
   "source": [
    "And we have a simple image phantom"
   ]
  },
  {
   "cell_type": "code",
   "execution_count": null,
   "metadata": {},
   "outputs": [],
   "source": [
    "slice = image.get_lengths()[1]//2 # middle slice\n",
    "plot_show_save(image, \"ground_truth\", slice = slice)"
   ]
  },
  {
   "cell_type": "markdown",
   "metadata": {},
   "source": [
    "We're now ready to simulate our emission data. We have a .smc file containing information about the simulation. Please read the simind manual to learn about the many different options available. These options can be altered using either the change command (type \"change input.smc into the terminal) or using switches \\\n",
    "The syntax for reconstruction is as follows:\n",
    "`simind input_file_prefix outpute_files_prefix`\n",
    "This can be followed by switches seperated by forward slashes such as below \\*\\\n",
    "\\* Unfortunately this causes some trible with Linux & MacOS file directories. The SIMIND manual claims that two backslashed '\\\\' can be used in place of a forward slash that is part of a file directory, but I haven't found this to be the case"
   ]
  },
  {
   "cell_type": "markdown",
   "metadata": {},
   "source": [
    "The following bash command defines a .smc file `input.smc` follwed by a prefix for output files `output` \\\n",
    "Switches are then used to define:\n",
    "* /NN: a multiplier for the number of histories per projection (which is calculated using the sum of all voxel values)\n",
    "* /PX: defines the image pixel size in the i,j direction (transverse in this case) - im.voxel_sizes()\n",
    "* /FS: defines the prefix for the .smi emission image file\n",
    "* /FD: defines the prefix for rhe .dmi attenuation image file # note: we've simulated this without attenuation"
   ]
  },
  {
   "cell_type": "code",
   "execution_count": null,
   "metadata": {},
   "outputs": [],
   "source": [
    "%%bash\n",
    "simind input output/NN:1/PX:0.4/FS:emission_image.smi"
   ]
  },
  {
   "cell_type": "markdown",
   "metadata": {},
   "source": [
    "And (assuming the preious cell ran) we have now simulated our SPECT data!\\\n",
    "Next we need to get this data into a format the SIRF will recognise. Luckily we have a script ready that does this for us.\n",
    "This script changes a few lines in the data's header file and the header file suffix. Differences between the conventions of interfiles in SIMIND and STIR/SIRF can be found in Rebecca's notes.\n",
    "\n",
    "SIMIND (with the current scoring routine) will output an air, scatter and total sinogram. We're interested in the total"
   ]
  },
  {
   "cell_type": "code",
   "execution_count": null,
   "metadata": {},
   "outputs": [],
   "source": [
    "%%bash\n",
    "sh ./convertSIMINDToSTIR.sh output_tot_w1.h00"
   ]
  },
  {
   "cell_type": "markdown",
   "metadata": {},
   "source": [
    "We can now view the resulting sinogram"
   ]
  },
  {
   "cell_type": "code",
   "execution_count": null,
   "metadata": {},
   "outputs": [],
   "source": [
    "simind_projdata =  stir.ProjData.read_from_file(\"output_tot_w1.hs\")\n",
    "\n",
    "slice = simind_projdata.get_num_sinograms()//2\n",
    "plot_show_save(simind_projdata, \"simind_projdata\", slice)"
   ]
  },
  {
   "cell_type": "markdown",
   "metadata": {},
   "source": [
    "OK, so now we have our projection data in a format that SIRF likes, we can go about reconstructing the data.\n",
    "\n",
    "In order to do this we first need to create our acqusition model matrix"
   ]
  },
  {
   "cell_type": "code",
   "execution_count": null,
   "metadata": {},
   "outputs": [],
   "source": [
    "acq_model_matrix = stir.ProjMatrixByBinSPECTUB() # create a SPECT porjection matrix object\n",
    "acq_model_matrix.set_keep_all_views_in_cache(False) # This keeps views in memory for a speed improvement\n",
    "acq_model_matrix.set_resolution_model(0.1,0.1) # Set a resolution model (just a guess!)\n",
    "acq_model_matrix.set_up(simind_projdata.get_proj_data_info(), image)"
   ]
  },
  {
   "cell_type": "code",
   "execution_count": null,
   "metadata": {},
   "outputs": [],
   "source": [
    "projector = stir.ProjectorByBinPairUsingProjMatrixByBin(acq_model_matrix)\n",
    "projector.set_up(simind_projdata.get_proj_data_info(), image)"
   ]
  },
  {
   "cell_type": "code",
   "execution_count": null,
   "metadata": {},
   "outputs": [],
   "source": [
    "stir_projdata = stir.ProjDataInMemory(simind_projdata.get_exam_info(),\n",
    "                                simind_projdata.get_proj_data_info())\n",
    "\n",
    "projector.get_forward_projector().forward_project(stir_projdata, image)\n",
    "\n",
    "slice = simind_projdata.get_num_sinograms()//2\n",
    "plot_show_save(stir_projdata, \"simind_projdata\", slice)"
   ]
  },
  {
   "cell_type": "markdown",
   "metadata": {},
   "source": [
    "And we can now backproject the data to get a rough idea of how we've done"
   ]
  },
  {
   "cell_type": "code",
   "execution_count": null,
   "metadata": {},
   "outputs": [],
   "source": [
    "# create a dummy image to fill with out reconstructed image\n",
    "target = image.get_empty_copy()\n",
    "target.fill(1)\n",
    "\n",
    "projector.get_back_projector().back_project(target, simind_projdata)\n",
    "slice = target.get_lengths()[1]//2 # middle slice\n",
    "plot_show_save(target, \"backprojected_image\", slice = slice)"
   ]
  },
  {
   "cell_type": "markdown",
   "metadata": {},
   "source": [
    "We'll now use OSEM to reconstruct a nicer image.\n",
    "First, we'll set up an objective function using out simind data and the projector we've just made from\n",
    "\n",
    "Then we'll set up a reconstructor object with this objective function."
   ]
  },
  {
   "cell_type": "code",
   "execution_count": null,
   "metadata": {},
   "outputs": [],
   "source": [
    "# create our objective function\n",
    "obj_function = stir.PoissonLogLikelihoodWithLinearModelForMeanAndProjData3DFloat()\n",
    "obj_function.set_proj_data_sptr(simind_projdata)\n",
    "obj_function.set_projector_pair_sptr(projector)\n",
    "\n",
    "# and now our reconstruction object\n",
    "recon = stir.OSMAPOSLReconstruction3DFloat()\n",
    "recon.set_objective_function(obj_function)\n",
    "recon.set_num_subsets(9) # This needs to be a divisor of the number of projections (72)\n",
    "recon.set_num_subiterations(9) # we'll go through the subiterations on ce\n",
    "recon.set_max_num_full_iterations(1)"
   ]
  },
  {
   "cell_type": "code",
   "execution_count": null,
   "metadata": {},
   "outputs": [],
   "source": [
    "# create a dummy image to fill with out reconstructed image\n",
    "target = image.get_empty_copy()\n",
    "target.fill(1)\n",
    "\n",
    "# and reconstruct\n",
    "recon.set_up(target)\n",
    "s = recon.reconstruct(target)"
   ]
  },
  {
   "cell_type": "code",
   "execution_count": null,
   "metadata": {},
   "outputs": [],
   "source": [
    "slice = stir_projdata.get_num_sinograms()//2\n",
    "# The recpnstructed image\n",
    "plot_show_save((target), \"reconstructed_image\", slice = slice)"
   ]
  },
  {
   "cell_type": "code",
   "execution_count": null,
   "metadata": {},
   "outputs": [],
   "source": [
    "### delete any rogue projections from the reconstruction\n",
    "import glob\n",
    "import os\n",
    "\n",
    "for f in glob.glob(\"tmp*\"):\n",
    "    os.remove(f)"
   ]
  }
 ],
 "metadata": {
  "kernelspec": {
   "display_name": "Python 3 (ipykernel)",
   "language": "python",
   "name": "python3"
  },
  "language_info": {
   "codemirror_mode": {
    "name": "ipython"
   },
   "file_extension": ".py",
   "mimetype": "text/x-python",
   "name": "python",
   "nbconvert_exporter": "python"
  },
  "vscode": {
   "interpreter": {
    "hash": "767d51c1340bd893661ea55ea3124f6de3c7a262a8b4abca0554b478b1e2ff90"
   }
  }
 },
 "nbformat": 4,
 "nbformat_minor": 2
}
