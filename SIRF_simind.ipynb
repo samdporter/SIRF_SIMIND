{
 "cells": [
  {
   "cell_type": "markdown",
   "metadata": {},
   "source": [
    "# SIRF reconstruction using data simulated with SIMIND ###\n",
    "This notebook lays out a simple simulation and reconstruction using SIMIND and SIRF \\\n",
    "Please see Rebecca Gillen's instructions for a more in depth guide"
   ]
  },
  {
   "cell_type": "markdown",
   "metadata": {},
   "source": [
    "### simind can be donwloaded from https://simind.blogg.lu.se/downloads/\n",
    "There are reasonably straight forward instructions to be followed for Windows/Mac/Linux\n",
    "### SIRF can be downloaded from https://github.com/SyneRBI/SIRF\n",
    "There are more complicated, but logical instructions for building the required packaged and libraries at https://github.com/SyneRBI/SIRF/wiki/Installation-instructions"
   ]
  },
  {
   "cell_type": "code",
   "execution_count": null,
   "metadata": {},
   "outputs": [],
   "source": [
    "# import sirf\n",
    "import sirf.STIR as STIR\n",
    "\n",
    "msg = STIR.MessageRedirector(\"info.txt\", \"warnings.txt\", \"error.txt\") # redirects error, information and warning messages to file"
   ]
  },
  {
   "cell_type": "markdown",
   "metadata": {},
   "source": [
    "Below we define two functions (the first of which should hopefully become necessary) in order to set up a voxel-based phantom (to use SIMIND's language)"
   ]
  },
  {
   "cell_type": "code",
   "execution_count": null,
   "metadata": {},
   "outputs": [],
   "source": [
    "def crop_image(templ_sino, image, nx, ny, nz, slice = None):\n",
    "    \"\"\"Crop ImageData from (vol_z,vol_y,vol_x) to (nz,ny,nx)\"\"\"\n",
    "    vol = image.as_array()\n",
    "    vol_dims = vol.shape\n",
    "    x_origin = vol_dims[2]//2\n",
    "    y_origin = vol_dims[1]//2\n",
    "    if slice is None:\n",
    "        z_origin = vol_dims[0]//2\n",
    "    else:\n",
    "        z_origin = slice\n",
    "    \n",
    "    vol = vol[z_origin-nz//2:z_origin+nz//2+nz%2,y_origin-ny//2:y_origin+ny//\n",
    "              2+ny%2,x_origin-nx//2:x_origin+nx//2+nx%2]\n",
    "    im = STIR.ImageData(templ_sino)\n",
    "    dim=(nz,ny,nx)\n",
    "    vol = vol.reshape(dim)\n",
    "    voxel_size=im.voxel_sizes()\n",
    "    im.initialise(dim,voxel_size)\n",
    "    im.fill(vol)\n",
    "    return im"
   ]
  },
  {
   "cell_type": "code",
   "execution_count": null,
   "metadata": {},
   "outputs": [],
   "source": [
    "def create_sample_image(image):\n",
    "    '''fill the image with some geometric shapes to create a simple phantom image'''\n",
    "    im_shape = image.shape\n",
    "    image.fill(0)\n",
    "    \n",
    "    # create a body-like ellipsoid shape\n",
    "    shape = STIR.EllipticCylinder()\n",
    "    shape.set_length(400)\n",
    "    shape.set_radii((im_shape[1]//3*4, im_shape[2]//2*3))\n",
    "    shape.set_origin((0, 0, 0))\n",
    "\n",
    "    # add the shape to the image\n",
    "    image.add_shape(shape, scale = 150)\n",
    "\n",
    "    # add some lung-like shapes shape\n",
    "    shape.set_radii((im_shape[1], im_shape[2]//2))\n",
    "    shape.set_origin((0,0, -im_shape[2]//3*2))\n",
    "    image.add_shape(shape, scale = -75)\n",
    "\n",
    "    shape.set_origin((0, 0, im_shape[2]//3*2))\n",
    "    image.add_shape(shape, scale = -75)\n",
    "\n",
    "    # a spine-like shape\n",
    "    shape.set_radii((im_shape[1]//4, im_shape[2]//4))\n",
    "    shape.set_origin((0, im_shape[1]//5*4, 0))\n",
    "    image.add_shape(shape, scale = 75)\n",
    "\n",
    "    # and a lung tumour-like shape\n",
    "    shape.set_radii((im_shape[1]//5, im_shape[2]//5))\n",
    "    shape.set_origin((0, -im_shape[1]//5, im_shape[2]//2))\n",
    "    image.add_shape(shape, scale = 100)\n",
    "    \n",
    "    return image"
   ]
  },
  {
   "cell_type": "markdown",
   "metadata": {},
   "source": [
    "We are now ready to create our image. We require only a template sinogram containing information such as the image dimensions and number of projections (among many other things - take a look at the .hs file)"
   ]
  },
  {
   "cell_type": "code",
   "execution_count": null,
   "metadata": {},
   "outputs": [],
   "source": [
    "templ_sino = STIR.AcquisitionData(\"./template_sinogram.hs\") # template sirf acquisition data\n",
    "im = create_sample_image(templ_sino.create_uniform_image(0)) # use the template to create an empty image\n",
    "\n",
    "### I'm currently unsure why this is necessary. It requires further investigastion ###\n",
    "im = crop_image(templ_sino, im, templ_sino.dimensions()[3], templ_sino.dimensions()[2], templ_sino.dimensions()[1])\n",
    "\n",
    "im = im.zoom_image((0.5,1,1)) # zoom the image along the z axis. This line is required because SIRF was originally set up for PET data with a 180 degree acquisition\n",
    "\n",
    "att_STIR = im/1000 # approximate attenuation coefficient image used in STIR (/cm)\n",
    "att_SIMIND = att_STIR/0.15*1000 # approximate density image used in SIMIND (mg/cm^3)\n",
    "att_none = im.get_uniform_copy(0) # zero density map to investigate the effects on SIMIND reconstruction"
   ]
  },
  {
   "cell_type": "markdown",
   "metadata": {},
   "source": [
    "And we have a simple image phantom"
   ]
  },
  {
   "cell_type": "code",
   "execution_count": null,
   "metadata": {},
   "outputs": [],
   "source": [
    "im.show()"
   ]
  },
  {
   "cell_type": "markdown",
   "metadata": {},
   "source": [
    "We now write these images to file.\n",
    "SIMIND requires a .dmi file for an attenuation (density) image and a .smi for an emission (source) image\\\n",
    "We can easily do this using the ImageData.write() method"
   ]
  },
  {
   "cell_type": "code",
   "execution_count": null,
   "metadata": {},
   "outputs": [],
   "source": [
    "im.write(\"./image.smi\")\n",
    "att_STIR.write(\"./attenuation_stir.hv\")\n",
    "att_SIMIND.write(\"./attenuation_simind.dmi\")\n",
    "att_none.write(\"./attenuation_none.dmi\")"
   ]
  },
  {
   "cell_type": "markdown",
   "metadata": {},
   "source": [
    "We're now ready to simulate our emission data. We have a .smc file containing information about the simulation. Please read the simind manual to learn about the many different options available. These options can be altered using either the change command (type \"change input.smc into the terminal) or using switches \\\n",
    "The syntax for reconstruction is as follows:\n",
    "`simind input_file_prefix outpute_files_prefix`\n",
    "This can be followed by switches seperated by forward slashes such as below \\*\\\n",
    "\\* Unfortunately this causes some trible with Linux & MacOS file directories. The SIMIND manual claims that two backslashed '\\\\' can be used in place of a forward slash that is part of a file directory, but I haven't found this to be the case"
   ]
  },
  {
   "cell_type": "markdown",
   "metadata": {},
   "source": [
    "The following bash command defines a .smc file `input.smc` follwed by a prefix for output files `output` \\\n",
    "Switches are then used to define:\n",
    "* /NN: a multiplier for the number of histories per projection (which is calculated using the sum of all voxel values)\n",
    "* /PX: defines the image pixel size\n",
    "* /FS: defines the prefix for the .smi emission image file\n",
    "* /FD: defines the prefix for rhe .dmi attenuation image file"
   ]
  },
  {
   "cell_type": "code",
   "execution_count": null,
   "metadata": {},
   "outputs": [],
   "source": [
    "%%bash\n",
    "simind input output/NN:0.001/PX:0.4/FS:image/FD:attenuation_simind"
   ]
  },
  {
   "cell_type": "markdown",
   "metadata": {},
   "source": [
    "And (assuming the preious cell ran) we have now simulated our SPECT data!\\\n",
    "Next we need to get this data into a format the SIRF will recognise. Luckily we have a script ready that does this for us.\n",
    "This script changes a few lines in the data's header file and the header file suffix. Differences between the conventions of interfiles in SIMIND and STIR/SIRF can be found in Rebecca's notes."
   ]
  },
  {
   "cell_type": "code",
   "execution_count": null,
   "metadata": {},
   "outputs": [],
   "source": [
    "%%bash\n",
    "sh ./convertSIMINDToSTIR.sh output.h00"
   ]
  },
  {
   "cell_type": "markdown",
   "metadata": {},
   "source": [
    "We can now view the resulting sinogram"
   ]
  },
  {
   "cell_type": "code",
   "execution_count": null,
   "metadata": {},
   "outputs": [],
   "source": [
    "simulated_data = STIR.AcquisitionData(\"./output.hs\")\n",
    "simulated_data.show()"
   ]
  },
  {
   "cell_type": "markdown",
   "metadata": {},
   "source": [
    "OK, so now we have our projection data in a format that SIRF likes, we can go about reconstructing the data. In this notebook we do this as simply as possible with a back prokection. \\\n",
    "In order to do this we first need to create our acqusition model matrix"
   ]
  },
  {
   "cell_type": "code",
   "execution_count": null,
   "metadata": {},
   "outputs": [],
   "source": [
    "acq_model_matrix = STIR.SPECTUBMatrix()\n",
    "acq_model_matrix.set_attenuation_image(att_STIR) # set the attenuation image for reconstruction \n",
    "acq_model_matrix.set_resolution_model(0.1,0.1,full_3D=False) # where we have defnied our collimator blurring as a gaussian with SD 0.1mm and a collimator slope of 0.1mm"
   ]
  },
  {
   "cell_type": "markdown",
   "metadata": {},
   "source": [
    "We then use this matrix to set up an acqusition model. This requires the set-Up() method to be run and needs a projection and image template "
   ]
  },
  {
   "cell_type": "code",
   "execution_count": null,
   "metadata": {},
   "outputs": [],
   "source": [
    "am = STIR.AcquisitionModelUsingMatrix(acq_model_matrix)\n",
    "am.set_up(simulated_data, im)"
   ]
  },
  {
   "cell_type": "markdown",
   "metadata": {},
   "source": [
    "And we can finally backproject the data"
   ]
  },
  {
   "cell_type": "code",
   "execution_count": null,
   "metadata": {},
   "outputs": [],
   "source": [
    "res = am.backward(simulated_data)\n",
    "res.show()"
   ]
  },
  {
   "cell_type": "markdown",
   "metadata": {},
   "source": [
    "Below is a forward and backproject of the data using SIRF only for comparison (obvisouly this doesn't model noise in any way)"
   ]
  },
  {
   "cell_type": "code",
   "execution_count": null,
   "metadata": {},
   "outputs": [],
   "source": [
    "forward_projected_data = am.forward(im)\n",
    "forward_projected_data.show()"
   ]
  },
  {
   "cell_type": "code",
   "execution_count": null,
   "metadata": {},
   "outputs": [],
   "source": [
    "back_projected_image = am.backward(forward_projected_data)\n",
    "back_projected_image.show()"
   ]
  },
  {
   "cell_type": "markdown",
   "metadata": {},
   "source": [
    "This last cell removes any temporary image files that SIRF occassionally misses"
   ]
  },
  {
   "cell_type": "code",
   "execution_count": null,
   "metadata": {},
   "outputs": [],
   "source": [
    "import glob\n",
    "import os\n",
    "\n",
    "for f in glob.glob((\"./tmp*\")):\n",
    "    os.remove(f)"
   ]
  }
 ],
 "metadata": {
  "kernelspec": {
   "display_name": "Python 3.10.6 64-bit",
   "language": "python",
   "name": "python3"
  },
  "language_info": {
   "codemirror_mode": {
    "name": "ipython"
   },
   "file_extension": ".py",
   "mimetype": "text/x-python",
   "name": "python",
   "nbconvert_exporter": "python"
  },
  "vscode": {
   "interpreter": {
    "hash": "e7370f93d1d0cde622a1f8e1c04877d8463912d04d973331ad4851f04de6915a"
   }
  }
 },
 "nbformat": 4,
 "nbformat_minor": 2
}
