{
 "cells": [
  {
   "cell_type": "code",
   "execution_count": null,
   "metadata": {},
   "outputs": [],
   "source": [
    "import sirf.STIR as STIR"
   ]
  },
  {
   "cell_type": "code",
   "execution_count": null,
   "metadata": {},
   "outputs": [],
   "source": [
    "def crop_image(templ_sino, image, nx, ny, nz, slice = None):\n",
    "    \"\"\"Crop from (vol_z,vol_y,vol_x) to (nz,ny,nx) and save to file\"\"\"\n",
    "    vol = image.as_array()\n",
    "    vol_dims = vol.shape\n",
    "    x_origin = vol_dims[2]//2\n",
    "    y_origin = vol_dims[1]//2\n",
    "    if slice is None:\n",
    "        z_origin = vol_dims[0]//2\n",
    "    else:\n",
    "        z_origin = slice\n",
    "    \n",
    "    vol = vol[z_origin-nz//2:z_origin+nz//2+nz%2,y_origin-ny//2:y_origin+ny//\n",
    "              2+ny%2,x_origin-nx//2:x_origin+nx//2+nx%2]\n",
    "    im = STIR.ImageData(templ_sino)\n",
    "    dim=(nz,ny,nx)\n",
    "    vol = vol.reshape(dim)\n",
    "    voxel_size=im.voxel_sizes()\n",
    "    im.initialise(dim,voxel_size)\n",
    "    im.fill(vol)\n",
    "    return im"
   ]
  },
  {
   "cell_type": "code",
   "execution_count": null,
   "metadata": {},
   "outputs": [],
   "source": [
    "def create_sample_image(image):\n",
    "    '''fill the image with some simple geometric shapes.'''\n",
    "    im_shape = image.shape\n",
    "    image.fill(0)\n",
    "    \n",
    "    # create a body-like ellipsoid shape\n",
    "    shape = STIR.EllipticCylinder()\n",
    "    shape.set_length(400)\n",
    "    shape.set_radii((im_shape[1]//3*4, im_shape[2]//2*3))\n",
    "    shape.set_origin((0, 0, 0))\n",
    "\n",
    "    # add the shape to the image\n",
    "    image.add_shape(shape, scale = 1)\n",
    "\n",
    "    # add some lung-like shapes shape\n",
    "    shape.set_radii((im_shape[1], im_shape[2]//2))\n",
    "    shape.set_origin((0,0, -im_shape[2]//3*2))\n",
    "    image.add_shape(shape, scale = -0.5)\n",
    "\n",
    "    shape.set_origin((0, 0, im_shape[2]//3*2))\n",
    "    image.add_shape(shape, scale = -0.5)\n",
    "\n",
    "    # a spine-like shape\n",
    "    shape.set_radii((im_shape[1]//4, im_shape[2]//4))\n",
    "    shape.set_origin((0, im_shape[1]//5*4, 0))\n",
    "    image.add_shape(shape, scale = 0.5)\n",
    "\n",
    "    # and a lung tumour-like shape\n",
    "    shape.set_radii((im_shape[1]//5, im_shape[2]//5))\n",
    "    shape.set_origin((0, -im_shape[1]//5, im_shape[2]//2))\n",
    "    image.add_shape(shape, scale = 0.75)\n",
    "    \n",
    "    return image"
   ]
  },
  {
   "cell_type": "code",
   "execution_count": null,
   "metadata": {},
   "outputs": [],
   "source": [
    "templ_sino = STIR.AcquisitionData(\"./template_sinogram.hs\")\n",
    "im = create_sample_image(templ_sino.create_uniform_image(0))\n",
    "im = crop_image(templ_sino, im, templ_sino.dimensions()[3], templ_sino.dimensions()[2], templ_sino.dimensions()[1])\n",
    "im = im.zoom_image((0.5,1,1))\n",
    "att_STIR = im/10 # approximate attenuation coefficient image used in STIR (/cm)\n",
    "att_SIMIND = att_STIR/0.15*1000 # approximate density image used in SIMIND (mg/cm^3)"
   ]
  },
  {
   "cell_type": "code",
   "execution_count": null,
   "metadata": {},
   "outputs": [],
   "source": [
    "im.show()"
   ]
  },
  {
   "cell_type": "code",
   "execution_count": null,
   "metadata": {},
   "outputs": [],
   "source": [
    "im.write(\"./image.smi\")\n",
    "att_STIR.write(\"./attenuation_stir.hv\")\n",
    "att_SIMIND.write(\"./attenuation_simind.dmi\")"
   ]
  },
  {
   "cell_type": "code",
   "execution_count": null,
   "metadata": {},
   "outputs": [],
   "source": [
    "acq_model_matrix = STIR.SPECTUBMatrix()\n",
    "acq_model_matrix.set_resolution_model(0.2,0.2,full_3D=False)"
   ]
  },
  {
   "cell_type": "code",
   "execution_count": null,
   "metadata": {},
   "outputs": [],
   "source": [
    "im.show()"
   ]
  },
  {
   "cell_type": "code",
   "execution_count": null,
   "metadata": {},
   "outputs": [],
   "source": [
    "%%bash\n",
    "simind input.smc output/NN:0.001/PX:0.4/FS:image/FD:attenuation_simind"
   ]
  },
  {
   "cell_type": "code",
   "execution_count": null,
   "metadata": {},
   "outputs": [],
   "source": [
    "%%bash\n",
    "sh ./convertSIMINDToSTIR.sh output.h00"
   ]
  },
  {
   "cell_type": "code",
   "execution_count": null,
   "metadata": {},
   "outputs": [],
   "source": [
    "simulated_data = STIR.AcquisitionData(\"./output.hs\")\n",
    "simulated_data.show()"
   ]
  },
  {
   "cell_type": "code",
   "execution_count": null,
   "metadata": {},
   "outputs": [],
   "source": [
    "am = STIR.AcquisitionModelUsingMatrix(acq_model_matrix)\n",
    "am.set_up(simulated_data, im)"
   ]
  },
  {
   "cell_type": "code",
   "execution_count": null,
   "metadata": {},
   "outputs": [],
   "source": [
    "res = am.backward(simulated_data)"
   ]
  },
  {
   "cell_type": "code",
   "execution_count": null,
   "metadata": {},
   "outputs": [],
   "source": [
    "res.show()"
   ]
  }
 ],
 "metadata": {
  "kernelspec": {
   "display_name": "Python 3.10.6 64-bit",
   "language": "python",
   "name": "python3"
  },
  "language_info": {
   "codemirror_mode": {
    "name": "ipython"
   },
   "file_extension": ".py",
   "mimetype": "text/x-python",
   "name": "python",
   "nbconvert_exporter": "python"
  },
  "vscode": {
   "interpreter": {
    "hash": "e7370f93d1d0cde622a1f8e1c04877d8463912d04d973331ad4851f04de6915a"
   }
  }
 },
 "nbformat": 4,
 "nbformat_minor": 2
}
